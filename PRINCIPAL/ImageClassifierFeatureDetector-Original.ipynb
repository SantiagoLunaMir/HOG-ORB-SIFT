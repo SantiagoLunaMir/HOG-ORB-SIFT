{
 "cells": [
  {
   "cell_type": "code",
   "execution_count": 1,
   "metadata": {},
   "outputs": [
    {
     "name": "stdout",
     "output_type": "stream",
     "text": [
      "['FlipperTrainR.jpg', 'thermoIntR.png', 'xboxControlerQueryR.jpg']\n",
      "Total Classes Detected 3\n",
      "['FlipperTrainR', 'thermoIntR', 'xboxControlerQueryR']\n",
      "3\n"
     ]
    }
   ],
   "source": [
    "import cv2\n",
    "import numpy as np\n",
    "import os\n",
    "\n",
    "path = '../ImagesQuery'\n",
    "orb = cv2.ORB_create(nfeatures=1000)\n",
    "\n",
    "images = []\n",
    "classNames = []\n",
    "myList = os.listdir(path)\n",
    "print(myList)\n",
    "print('Total Classes Detected',len(myList))\n",
    "for cl in myList:\n",
    "    imgCur = cv2.imread(f'{path}/{cl}',0)\n",
    "    images.append(imgCur)\n",
    "    classNames.append(os.path.splitext(cl)[0])\n",
    "print(classNames)\n",
    "\n",
    "def findDes(images):\n",
    "    desList=[]\n",
    "    for img in images:\n",
    "        kp,des = orb.detectAndCompute(img,None)\n",
    "        desList.append(des)\n",
    "    return desList\n",
    "\n",
    "def findID(img, desLIst, thres=15):\n",
    "    kp2,des2 = orb.detectAndCompute(img,None)\n",
    "    bf = cv2.BFMatcher()\n",
    "    matchList=[]\n",
    "    finalVal = -1\n",
    "    try:\n",
    "        for des in desList:\n",
    "            matches = bf.knnMatch(des,des2,k=2)\n",
    "            good = []\n",
    "            for m,n in matches:#casi fuerza bruta\n",
    "                if m.distance < 0.75*n.distance:#75\n",
    "                    good.append([m])\n",
    "            matchList.append(len(good))\n",
    "    except:\n",
    "        pass    \n",
    "    #print(matchList)\n",
    "    if len(matchList)!=0:\n",
    "        if max(matchList) > thres:\n",
    "            finalVal = matchList.index(max(matchList))\n",
    "    return finalVal        \n",
    "    \n",
    "\n",
    "desList = findDes(images)\n",
    "print(len(desList))\n",
    "\n",
    "cap = cv2.VideoCapture(0)\n",
    "\n",
    "while True:\n",
    "    succes, img2 = cap.read()\n",
    "    imgOriginal = img2.copy()\n",
    "    img2 = cv2.cvtColor(img2,cv2.COLOR_BGR2GRAY)\n",
    "    id = findID(img2,desList)\n",
    "    if id != -1:\n",
    "        cv2.putText(imgOriginal,classNames[id],(50,50),cv2.FONT_HERSHEY_COMPLEX,1,(0,0,255),1)\n",
    "    cv2.imshow('img2',imgOriginal)\n",
    "    cv2.waitKey(1)\n"
   ]
  }
 ],
 "metadata": {
  "kernelspec": {
   "display_name": "keras",
   "language": "python",
   "name": "python3"
  },
  "language_info": {
   "codemirror_mode": {
    "name": "ipython",
    "version": 3
   },
   "file_extension": ".py",
   "mimetype": "text/x-python",
   "name": "python",
   "nbconvert_exporter": "python",
   "pygments_lexer": "ipython3",
   "version": "3.6.13"
  }
 },
 "nbformat": 4,
 "nbformat_minor": 2
}
