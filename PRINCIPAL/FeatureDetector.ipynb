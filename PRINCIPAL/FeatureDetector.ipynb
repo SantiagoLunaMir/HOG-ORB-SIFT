{
 "cells": [
  {
   "cell_type": "code",
   "execution_count": 1,
   "metadata": {},
   "outputs": [],
   "source": [
    "import cv2\n",
    "import numpy as np"
   ]
  },
  {
   "cell_type": "code",
   "execution_count": 2,
   "metadata": {},
   "outputs": [
    {
     "name": "stdout",
     "output_type": "stream",
     "text": [
      "12\n"
     ]
    }
   ],
   "source": [
    "img1 = cv2.imread('../ImagesQuery/xboxControlerQueryR.jpg',0)\n",
    "img2 = cv2.imread('../ImagesTrain/XboxControlerMER.jpg',0)#\n",
    "\n",
    "orb = cv2.ORB_create(nfeatures=1000)\n",
    "\n",
    "kp1 , des1 = orb.detectAndCompute(img1,None)\n",
    "kp2 , des2 = orb.detectAndCompute(img2,None)\n",
    "\n",
    "#imgKp1 = cv2.drawKeypoints(img1,kp1,None)\n",
    "#imgKp2 = cv2.drawKeypoints(img2,kp2,None)\n",
    "\n",
    "bf = cv2.BFMatcher()\n",
    "matches = bf.knnMatch(des1,des2,k=2)\n",
    "\n",
    "good = []\n",
    "for m,n in matches:#casi fuerza bruta\n",
    "    if m.distance < 0.75*n.distance:\n",
    "        good.append([m])\n",
    "print(len(good))\n",
    "\n",
    "img3 = cv2.drawMatchesKnn(img1,kp1,img2,kp2,good,None,flags = 2)\n",
    "\n",
    "#cv2.imshow('Kp1',imgKp1)\n",
    "#cv2.imshow('Kp2',imgKp2)\n",
    "cv2.imshow('img1',img1)\n",
    "cv2.imshow('img2',img2)\n",
    "cv2.imshow('img3',img3)\n",
    "cv2.waitKey(0)\n",
    "\n",
    "\n"
   ]
  },
  {
   "cell_type": "markdown",
   "metadata": {},
   "source": [
    "# Video original\n",
    "- https://www.youtube.com/watch?v=nnH55-zD38I"
   ]
  }
 ],
 "metadata": {
  "kernelspec": {
   "display_name": "keras",
   "language": "python",
   "name": "python3"
  },
  "language_info": {
   "codemirror_mode": {
    "name": "ipython",
    "version": 3
   },
   "file_extension": ".py",
   "mimetype": "text/x-python",
   "name": "python",
   "nbconvert_exporter": "python",
   "pygments_lexer": "ipython3",
   "version": "3.6.13"
  }
 },
 "nbformat": 4,
 "nbformat_minor": 2
}
